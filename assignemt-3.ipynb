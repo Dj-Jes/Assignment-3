{
 "cells": [
  {
   "cell_type": "code",
   "execution_count": null,
   "metadata": {},
   "outputs": [],
   "source": [
    "import pandas as pd\n",
    "import numpy as np\n",
    "import matplotlib.pyplot as plt\n",
    "import matplotlib.ticker as mtick\n",
    "import seaborn as sns\n",
    "from sklearn.metrics import mean_squared_error, r2_score\n",
    "from sklearn.model_selection import train_test_split\n",
    "from sklearn.linear_model import ElasticNet\n",
    "from sklearn.metrics import mean_absolute_error\n",
    "from sklearn.preprocessing import MinMaxScaler\n",
    "from sklearn.linear_model import LinearRegression\n",
    "from sklearn.metrics import mean_squared_error\n",
    "from sklearn.metrics import mean_absolute_error\n",
    "from sklearn.metrics import explained_variance_score\n",
    "from sklearn.model_selection import train_test_split, GridSearchCV\n",
    "from sklearn.neighbors import KNeighborsRegressor\n",
    "from sklearn.metrics import classification_report, accuracy_score\n",
    "import math"
   ]
  },
  {
   "cell_type": "markdown",
   "metadata": {},
   "source": [
    "# Loading mast data"
   ]
  },
  {
   "cell_type": "markdown",
   "metadata": {},
   "source": [
    "We chose to go with the Risoe data, only loading the data that is needed, to reduce memory usage."
   ]
  },
  {
   "cell_type": "code",
   "execution_count": null,
   "metadata": {},
   "outputs": [],
   "source": [
    "import netCDF4 as nc\n",
    "import numpy as np\n",
    "from datetime import datetime, timedelta\n",
    "\n",
    "file_path_risoe = 'risoe_m_all.nc'\n",
    "file_paths_borglum = 'borglum_all.nc'\n",
    "\n",
    "signals_risoe = ['ws77', 'wd77', 'ws125', 'wd125']\n",
    "signals_borglum = ['ws32', 'wd32']\n",
    "\n",
    "base_date_borglum = datetime(1997, 12, 11, 16, 5, 0)\n",
    "base_date_risoe = datetime(1995, 11, 20, 16, 25, 0)\n",
    "\n",
    "# Get the Risoe dataset:\n",
    "dataset = nc.Dataset(file_path_risoe, 'r')\n",
    "\n",
    "# List the variables in the dataset\n",
    "print(\"Variables in the netCDF file:\")\n",
    "for var_name in dataset.variables:\n",
    "    print(var_name)\n",
    "\n",
    "time_minutes = np.array(dataset.variables['time'])\n",
    "\n",
    "# Convert time values to timestamp strings\n",
    "time = []\n",
    "for minutes in time_minutes:\n",
    "\ttime_delta = timedelta(minutes=int(minutes))\n",
    "\ttimestamp = base_date_risoe + time_delta\n",
    "\ttime.append(timestamp.strftime('%Y-%m-%d %H:%M:%S'))\n",
    " \n",
    "print(f\"time:\\n {time[:10]} - {time[-1]}\")\n",
    "\n",
    "for signal in signals_risoe:\n",
    "\tvalues = np.array(dataset.variables[signal])\n",
    "\tprint(f'{signal}:\\n {values[:10]} - {values[-10:-1]}')"
   ]
  },
  {
   "cell_type": "code",
   "execution_count": null,
   "metadata": {},
   "outputs": [],
   "source": [
    "import netCDF4 as nc\n",
    "import numpy as np\n",
    "import pandas as pd\n",
    "\n",
    "# Make sure to use the correct dataset\n",
    "file_path = 'Data/Risoe/risoe_m_all.nc'\n",
    "dataset = nc.Dataset(file_path, 'r')\n",
    "\n",
    "# Confirm variables are in the dataset\n",
    "print(\"Variables in the netCDF file:\")\n",
    "for var_name in dataset.variables:\n",
    "    print(var_name)\n",
    "\n",
    "# Ensure the required variables exist before attempting to access them\n",
    "required_vars = ['time', 'ws77', 'wd77', 'ws125', 'wd125']\n",
    "for var in required_vars:\n",
    "    if var not in dataset.variables:\n",
    "        print(f\"Variable {var} is missing in the dataset.\")\n",
    "    else:\n",
    "        print(f\"Variable {var} is available.\")\n",
    "\n",
    "# Convert NetCDF data to pandas DataFrame\n",
    "df_mast_risoe = pd.DataFrame()\n",
    "df_mast_risoe['time'] = pd.to_datetime([datetime(1995, 11, 20, 16, 25) + timedelta(minutes=int(m)) for m in dataset.variables['time'][:]])\n",
    "df_mast_risoe['ws77'] = np.array(dataset.variables['ws77'][:])\n",
    "df_mast_risoe['wd77'] = np.array(dataset.variables['wd77'][:]%360)\n",
    "df_mast_risoe['ws125'] = np.array(dataset.variables['ws125'][:])\n",
    "df_mast_risoe['wd125'] = np.array(dataset.variables['wd125'][:]%360)\n",
    "\n",
    "# Setting the 'time' column as the index\n",
    "df_mast_risoe.set_index('time', inplace=True)\n",
    "\n",
    "# Display the last 25 rows to confirm data is loaded correctly\n",
    "print(df_mast_risoe.tail(25))\n"
   ]
  },
  {
   "cell_type": "markdown",
   "metadata": {},
   "source": [
    "making windroses to determine the wind speeds from directions. count based"
   ]
  },
  {
   "cell_type": "code",
   "execution_count": null,
   "metadata": {},
   "outputs": [],
   "source": [
    "from windrose import WindroseAxes\n",
    "import matplotlib.pyplot as plt\n",
    "\n",
    "ws_risoe_77 = df_mast_risoe['ws77'].to_numpy()\n",
    "wd_risoe_77 = df_mast_risoe['wd77'].to_numpy()\n",
    "\n",
    "# Remove NaN values from both arrays\n",
    "valid_indices = ~np.isnan(ws_risoe_77) & ~np.isnan(wd_risoe_77)\n",
    "ws_risoe_77_clean = ws_risoe_77[valid_indices]\n",
    "wd_risoe_77_clean = wd_risoe_77[valid_indices]\n",
    "\n",
    "# Plot wind rose\n",
    "ax = WindroseAxes.from_ax()\n",
    "ax.bar(wd_risoe_77_clean, ws_risoe_77_clean)\n",
    "ax.set_legend()\n",
    "\n",
    "plt.show()"
   ]
  },
  {
   "cell_type": "code",
   "execution_count": null,
   "metadata": {},
   "outputs": [],
   "source": [
    "# Plot wind rose\n",
    "ax = WindroseAxes.from_ax()\n",
    "ax.bar(wd_risoe_77_clean, ws_risoe_77_clean, normed=True)\n",
    "ax.set_legend()\n",
    "\n",
    "# Format radius axis to percentages\n",
    "fmt = '%.0f%%'\n",
    "yticks = mtick.FormatStrFormatter(fmt)\n",
    "ax.yaxis.set_major_formatter(yticks)\n",
    "\n",
    "plt.show()"
   ]
  },
  {
   "cell_type": "markdown",
   "metadata": {},
   "source": [
    "Converting the data to a Pandas DataFrame, to make it easier to work with.\n",
    "Converting time to datetime objects, and setting it as the index."
   ]
  },
  {
   "cell_type": "code",
   "execution_count": null,
   "metadata": {},
   "outputs": [],
   "source": [
    "df_mast_risoe = pd.DataFrame()\n",
    "df_mast_risoe['time'] = pd.to_datetime([datetime(1995, 11, 20, 16, 25) + timedelta(minutes=int(m)) for m in dataset.variables['time'][:]])\n",
    "df_mast_risoe['ws77'] = np.array(dataset.variables['ws77'][:])\n",
    "df_mast_risoe['wd77'] = np.array(dataset.variables['wd77'][:])\n",
    "df_mast_risoe['ws125'] = np.array(dataset.variables['ws125'][:])\n",
    "df_mast_risoe['wd125'] = np.array(dataset.variables['wd125'][:])\n",
    "\n",
    "df_mast_risoe.set_index('time', inplace=True)"
   ]
  },
  {
   "cell_type": "markdown",
   "metadata": {},
   "source": [
    "## Handleing missing values"
   ]
  },
  {
   "cell_type": "markdown",
   "metadata": {},
   "source": [
    "Plotting the data so se where data is mussing"
   ]
  },
  {
   "cell_type": "code",
   "execution_count": null,
   "metadata": {},
   "outputs": [],
   "source": [
    "sns.set()\n",
    "df_mast_risoe.plot(subplots=True, layout=(4,1), figsize=(12,12), sharex=False, sharey=False)"
   ]
  },
  {
   "cell_type": "markdown",
   "metadata": {},
   "source": []
  }
 ],
 "metadata": {},
 "nbformat": 4,
 "nbformat_minor": 2
}
